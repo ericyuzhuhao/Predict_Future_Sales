{
 "cells": [
  {
   "cell_type": "code",
   "execution_count": 1,
   "metadata": {},
   "outputs": [],
   "source": [
    "#import dependencies\n",
    "import pandas as pd\n",
    "import numpy as np\n",
    "import matplotlib.pyplot as plt\n",
    "import datetime as dt"
   ]
  },
  {
   "cell_type": "code",
   "execution_count": 2,
   "metadata": {},
   "outputs": [],
   "source": [
    "#import data\n",
    "item_categories = pd.read_csv('item_categories.csv')\n",
    "items = pd.read_csv('items.csv')\n",
    "sales = pd.read_csv('sales.csv', parse_dates=['date'])\n",
    "shops = pd.read_csv('shops.csv')"
   ]
  },
  {
   "cell_type": "code",
   "execution_count": 3,
   "metadata": {},
   "outputs": [
    {
     "data": {
      "text/html": [
       "<div>\n",
       "<style scoped>\n",
       "    .dataframe tbody tr th:only-of-type {\n",
       "        vertical-align: middle;\n",
       "    }\n",
       "\n",
       "    .dataframe tbody tr th {\n",
       "        vertical-align: top;\n",
       "    }\n",
       "\n",
       "    .dataframe thead th {\n",
       "        text-align: right;\n",
       "    }\n",
       "</style>\n",
       "<table border=\"1\" class=\"dataframe\">\n",
       "  <thead>\n",
       "    <tr style=\"text-align: right;\">\n",
       "      <th></th>\n",
       "      <th>ID</th>\n",
       "      <th>item_category_name</th>\n",
       "      <th>active_flag</th>\n",
       "    </tr>\n",
       "  </thead>\n",
       "  <tbody>\n",
       "    <tr>\n",
       "      <th>0</th>\n",
       "      <td>25</td>\n",
       "      <td>Games - Accessories for games</td>\n",
       "      <td>NaN</td>\n",
       "    </tr>\n",
       "    <tr>\n",
       "      <th>1</th>\n",
       "      <td>5</td>\n",
       "      <td>Accessories - PSVita</td>\n",
       "      <td>NaN</td>\n",
       "    </tr>\n",
       "    <tr>\n",
       "      <th>2</th>\n",
       "      <td>62</td>\n",
       "      <td>Gifts - gadgets, robots, sports</td>\n",
       "      <td>NaN</td>\n",
       "    </tr>\n",
       "    <tr>\n",
       "      <th>3</th>\n",
       "      <td>15</td>\n",
       "      <td>Game consoles - XBOX 360</td>\n",
       "      <td>NaN</td>\n",
       "    </tr>\n",
       "    <tr>\n",
       "      <th>4</th>\n",
       "      <td>14</td>\n",
       "      <td>Game consoles - PSVita</td>\n",
       "      <td>NaN</td>\n",
       "    </tr>\n",
       "  </tbody>\n",
       "</table>\n",
       "</div>"
      ],
      "text/plain": [
       "   ID               item_category_name active_flag\n",
       "0  25    Games - Accessories for games         NaN\n",
       "1   5             Accessories - PSVita         NaN\n",
       "2  62  Gifts - gadgets, robots, sports         NaN\n",
       "3  15         Game consoles - XBOX 360         NaN\n",
       "4  14           Game consoles - PSVita         NaN"
      ]
     },
     "execution_count": 3,
     "metadata": {},
     "output_type": "execute_result"
    }
   ],
   "source": [
    "#preview item_categories\n",
    "item_categories.head()"
   ]
  },
  {
   "cell_type": "code",
   "execution_count": 4,
   "metadata": {},
   "outputs": [
    {
     "data": {
      "text/html": [
       "<div>\n",
       "<style scoped>\n",
       "    .dataframe tbody tr th:only-of-type {\n",
       "        vertical-align: middle;\n",
       "    }\n",
       "\n",
       "    .dataframe tbody tr th {\n",
       "        vertical-align: top;\n",
       "    }\n",
       "\n",
       "    .dataframe thead th {\n",
       "        text-align: right;\n",
       "    }\n",
       "</style>\n",
       "<table border=\"1\" class=\"dataframe\">\n",
       "  <thead>\n",
       "    <tr style=\"text-align: right;\">\n",
       "      <th></th>\n",
       "      <th>item_name</th>\n",
       "      <th>id</th>\n",
       "      <th>category</th>\n",
       "    </tr>\n",
       "  </thead>\n",
       "  <tbody>\n",
       "    <tr>\n",
       "      <th>0</th>\n",
       "      <td>! POWER IN glamor (PLAST.) D</td>\n",
       "      <td>0</td>\n",
       "      <td>40</td>\n",
       "    </tr>\n",
       "    <tr>\n",
       "      <th>1</th>\n",
       "      <td>! ABBYY FineReader 12 Professional Edition Ful...</td>\n",
       "      <td>1</td>\n",
       "      <td>76</td>\n",
       "    </tr>\n",
       "    <tr>\n",
       "      <th>2</th>\n",
       "      <td>*** In the glory (UNV) D</td>\n",
       "      <td>2</td>\n",
       "      <td>40</td>\n",
       "    </tr>\n",
       "    <tr>\n",
       "      <th>3</th>\n",
       "      <td>*** BLUE WAVE (Univ) D</td>\n",
       "      <td>3</td>\n",
       "      <td>40</td>\n",
       "    </tr>\n",
       "    <tr>\n",
       "      <th>4</th>\n",
       "      <td>*** BOX (GLASS) D</td>\n",
       "      <td>4</td>\n",
       "      <td>40</td>\n",
       "    </tr>\n",
       "  </tbody>\n",
       "</table>\n",
       "</div>"
      ],
      "text/plain": [
       "                                           item_name  id  category\n",
       "0                       ! POWER IN glamor (PLAST.) D   0        40\n",
       "1  ! ABBYY FineReader 12 Professional Edition Ful...   1        76\n",
       "2                           *** In the glory (UNV) D   2        40\n",
       "3                             *** BLUE WAVE (Univ) D   3        40\n",
       "4                                  *** BOX (GLASS) D   4        40"
      ]
     },
     "execution_count": 4,
     "metadata": {},
     "output_type": "execute_result"
    }
   ],
   "source": [
    "#preview items\n",
    "items.head()"
   ]
  },
  {
   "cell_type": "code",
   "execution_count": 5,
   "metadata": {},
   "outputs": [
    {
     "data": {
      "text/html": [
       "<div>\n",
       "<style scoped>\n",
       "    .dataframe tbody tr th:only-of-type {\n",
       "        vertical-align: middle;\n",
       "    }\n",
       "\n",
       "    .dataframe tbody tr th {\n",
       "        vertical-align: top;\n",
       "    }\n",
       "\n",
       "    .dataframe thead th {\n",
       "        text-align: right;\n",
       "    }\n",
       "</style>\n",
       "<table border=\"1\" class=\"dataframe\">\n",
       "  <thead>\n",
       "    <tr style=\"text-align: right;\">\n",
       "      <th></th>\n",
       "      <th>date</th>\n",
       "      <th>date_block_num</th>\n",
       "      <th>shop_id</th>\n",
       "      <th>item_id</th>\n",
       "      <th>item_price</th>\n",
       "      <th>item_cnt_day</th>\n",
       "    </tr>\n",
       "  </thead>\n",
       "  <tbody>\n",
       "    <tr>\n",
       "      <th>0</th>\n",
       "      <td>2013-02-01</td>\n",
       "      <td>0</td>\n",
       "      <td>59</td>\n",
       "      <td>22154</td>\n",
       "      <td>999.00</td>\n",
       "      <td>1.0</td>\n",
       "    </tr>\n",
       "    <tr>\n",
       "      <th>1</th>\n",
       "      <td>2013-03-01</td>\n",
       "      <td>0</td>\n",
       "      <td>25</td>\n",
       "      <td>2552</td>\n",
       "      <td>899.00</td>\n",
       "      <td>1.0</td>\n",
       "    </tr>\n",
       "    <tr>\n",
       "      <th>2</th>\n",
       "      <td>2013-05-01</td>\n",
       "      <td>0</td>\n",
       "      <td>25</td>\n",
       "      <td>2552</td>\n",
       "      <td>899.00</td>\n",
       "      <td>-1.0</td>\n",
       "    </tr>\n",
       "    <tr>\n",
       "      <th>3</th>\n",
       "      <td>2013-06-01</td>\n",
       "      <td>0</td>\n",
       "      <td>25</td>\n",
       "      <td>2554</td>\n",
       "      <td>1709.05</td>\n",
       "      <td>1.0</td>\n",
       "    </tr>\n",
       "    <tr>\n",
       "      <th>4</th>\n",
       "      <td>2013-01-15</td>\n",
       "      <td>0</td>\n",
       "      <td>25</td>\n",
       "      <td>2555</td>\n",
       "      <td>1099.00</td>\n",
       "      <td>1.0</td>\n",
       "    </tr>\n",
       "  </tbody>\n",
       "</table>\n",
       "</div>"
      ],
      "text/plain": [
       "        date  date_block_num  shop_id  item_id  item_price  item_cnt_day\n",
       "0 2013-02-01               0       59    22154      999.00           1.0\n",
       "1 2013-03-01               0       25     2552      899.00           1.0\n",
       "2 2013-05-01               0       25     2552      899.00          -1.0\n",
       "3 2013-06-01               0       25     2554     1709.05           1.0\n",
       "4 2013-01-15               0       25     2555     1099.00           1.0"
      ]
     },
     "execution_count": 5,
     "metadata": {},
     "output_type": "execute_result"
    }
   ],
   "source": [
    "#preview sales\n",
    "sales.head()"
   ]
  },
  {
   "cell_type": "code",
   "execution_count": 6,
   "metadata": {},
   "outputs": [
    {
     "data": {
      "text/html": [
       "<div>\n",
       "<style scoped>\n",
       "    .dataframe tbody tr th:only-of-type {\n",
       "        vertical-align: middle;\n",
       "    }\n",
       "\n",
       "    .dataframe tbody tr th {\n",
       "        vertical-align: top;\n",
       "    }\n",
       "\n",
       "    .dataframe thead th {\n",
       "        text-align: right;\n",
       "    }\n",
       "</style>\n",
       "<table border=\"1\" class=\"dataframe\">\n",
       "  <thead>\n",
       "    <tr style=\"text-align: right;\">\n",
       "      <th></th>\n",
       "      <th>system_id</th>\n",
       "      <th>shop_name</th>\n",
       "      <th>id</th>\n",
       "      <th>active_flag</th>\n",
       "    </tr>\n",
       "  </thead>\n",
       "  <tbody>\n",
       "    <tr>\n",
       "      <th>0</th>\n",
       "      <td>R395989</td>\n",
       "      <td>Voronezh TRC \"Maksimir\"</td>\n",
       "      <td>7</td>\n",
       "      <td>X</td>\n",
       "    </tr>\n",
       "    <tr>\n",
       "      <th>1</th>\n",
       "      <td>Q222502</td>\n",
       "      <td>Zhukovsky Street</td>\n",
       "      <td>11</td>\n",
       "      <td>X</td>\n",
       "    </tr>\n",
       "    <tr>\n",
       "      <th>2</th>\n",
       "      <td>B70025</td>\n",
       "      <td>RostovNaDonu TRC \"Megacenter Horizon\"</td>\n",
       "      <td>39</td>\n",
       "      <td>NaN</td>\n",
       "    </tr>\n",
       "    <tr>\n",
       "      <th>3</th>\n",
       "      <td>U750976</td>\n",
       "      <td>! Yakutsk Ordzhonikidze, 56 Franc</td>\n",
       "      <td>0</td>\n",
       "      <td>NaN</td>\n",
       "    </tr>\n",
       "    <tr>\n",
       "      <th>4</th>\n",
       "      <td>F831253</td>\n",
       "      <td>Shop Online Emergencies</td>\n",
       "      <td>12</td>\n",
       "      <td>NaN</td>\n",
       "    </tr>\n",
       "  </tbody>\n",
       "</table>\n",
       "</div>"
      ],
      "text/plain": [
       "  system_id                              shop_name  id active_flag\n",
       "0   R395989                Voronezh TRC \"Maksimir\"   7           X\n",
       "1   Q222502                       Zhukovsky Street  11           X\n",
       "2    B70025  RostovNaDonu TRC \"Megacenter Horizon\"  39         NaN\n",
       "3   U750976      ! Yakutsk Ordzhonikidze, 56 Franc   0         NaN\n",
       "4   F831253                Shop Online Emergencies  12         NaN"
      ]
     },
     "execution_count": 6,
     "metadata": {},
     "output_type": "execute_result"
    }
   ],
   "source": [
    "#preview shops\n",
    "shops = shops.rename(columns={\"name\": \"shop_name\"})\n",
    "shops.head()"
   ]
  },
  {
   "cell_type": "code",
   "execution_count": 7,
   "metadata": {},
   "outputs": [
    {
     "name": "stdout",
     "output_type": "stream",
     "text": [
      "Columns of item_categories:\n",
      "['ID', 'item_category_name', 'active_flag']\n",
      "\n",
      "\n",
      "Columns of items:\n",
      "['item_name', 'id', 'category']\n",
      "\n",
      "\n",
      "Columns of sales:\n",
      "['date', 'date_block_num', 'shop_id', 'item_id', 'item_price', 'item_cnt_day']\n",
      "\n",
      "\n",
      "Columns of shops:\n",
      "['system_id', 'shop_name', 'id', 'active_flag']\n",
      "\n",
      "\n"
     ]
    }
   ],
   "source": [
    "#columns of each dataset\n",
    "print(\"Columns of item_categories:\")\n",
    "print(item_categories.columns.values.tolist())\n",
    "print('\\n')\n",
    "\n",
    "print(\"Columns of items:\")\n",
    "print(items.columns.values.tolist())\n",
    "print('\\n')\n",
    "\n",
    "print(\"Columns of sales:\")\n",
    "print(sales.columns.values.tolist())\n",
    "print('\\n')\n",
    "\n",
    "print(\"Columns of shops:\")\n",
    "print(shops.columns.values.tolist())\n",
    "print('\\n')"
   ]
  },
  {
   "cell_type": "code",
   "execution_count": 8,
   "metadata": {},
   "outputs": [],
   "source": [
    "#merge datasets\n",
    "sales_merged = sales.merge(shops, how='left', left_on='shop_id', right_on='id').drop(['id','active_flag'], axis=1)\n",
    "sales_merged = sales_merged.merge(items, how='left', left_on='item_id', right_on='id').drop('id', axis=1)\n",
    "sales_merged = sales_merged.merge(item_categories, how='left', left_on='category', right_on='ID').drop('ID', axis=1)"
   ]
  },
  {
   "cell_type": "code",
   "execution_count": 9,
   "metadata": {},
   "outputs": [
    {
     "data": {
      "text/html": [
       "<div>\n",
       "<style scoped>\n",
       "    .dataframe tbody tr th:only-of-type {\n",
       "        vertical-align: middle;\n",
       "    }\n",
       "\n",
       "    .dataframe tbody tr th {\n",
       "        vertical-align: top;\n",
       "    }\n",
       "\n",
       "    .dataframe thead th {\n",
       "        text-align: right;\n",
       "    }\n",
       "</style>\n",
       "<table border=\"1\" class=\"dataframe\">\n",
       "  <thead>\n",
       "    <tr style=\"text-align: right;\">\n",
       "      <th></th>\n",
       "      <th>date</th>\n",
       "      <th>date_block_num</th>\n",
       "      <th>shop_id</th>\n",
       "      <th>item_id</th>\n",
       "      <th>item_price</th>\n",
       "      <th>item_cnt_day</th>\n",
       "      <th>system_id</th>\n",
       "      <th>shop_name</th>\n",
       "      <th>item_name</th>\n",
       "      <th>category</th>\n",
       "      <th>item_category_name</th>\n",
       "      <th>active_flag</th>\n",
       "    </tr>\n",
       "  </thead>\n",
       "  <tbody>\n",
       "    <tr>\n",
       "      <th>0</th>\n",
       "      <td>2013-02-01</td>\n",
       "      <td>0</td>\n",
       "      <td>59</td>\n",
       "      <td>22154</td>\n",
       "      <td>999.00</td>\n",
       "      <td>1.0</td>\n",
       "      <td>G957470</td>\n",
       "      <td>Yaroslavl shopping center \"Altair\"</td>\n",
       "      <td>Scene 2012 (BD)</td>\n",
       "      <td>37</td>\n",
       "      <td>Movies - Blu-Ray</td>\n",
       "      <td>NaN</td>\n",
       "    </tr>\n",
       "    <tr>\n",
       "      <th>1</th>\n",
       "      <td>2013-03-01</td>\n",
       "      <td>0</td>\n",
       "      <td>25</td>\n",
       "      <td>2552</td>\n",
       "      <td>899.00</td>\n",
       "      <td>1.0</td>\n",
       "      <td>B882047</td>\n",
       "      <td>Moscow TRC \"Atrium\"</td>\n",
       "      <td>DEEP PURPLE  The House Of Blue Light  LP</td>\n",
       "      <td>58</td>\n",
       "      <td>Music - Vinyl</td>\n",
       "      <td>NaN</td>\n",
       "    </tr>\n",
       "    <tr>\n",
       "      <th>2</th>\n",
       "      <td>2013-05-01</td>\n",
       "      <td>0</td>\n",
       "      <td>25</td>\n",
       "      <td>2552</td>\n",
       "      <td>899.00</td>\n",
       "      <td>-1.0</td>\n",
       "      <td>B882047</td>\n",
       "      <td>Moscow TRC \"Atrium\"</td>\n",
       "      <td>DEEP PURPLE  The House Of Blue Light  LP</td>\n",
       "      <td>58</td>\n",
       "      <td>Music - Vinyl</td>\n",
       "      <td>NaN</td>\n",
       "    </tr>\n",
       "    <tr>\n",
       "      <th>3</th>\n",
       "      <td>2013-06-01</td>\n",
       "      <td>0</td>\n",
       "      <td>25</td>\n",
       "      <td>2554</td>\n",
       "      <td>1709.05</td>\n",
       "      <td>1.0</td>\n",
       "      <td>B882047</td>\n",
       "      <td>Moscow TRC \"Atrium\"</td>\n",
       "      <td>DEEP PURPLE  Who Do You Think We Are  LP</td>\n",
       "      <td>58</td>\n",
       "      <td>Music - Vinyl</td>\n",
       "      <td>NaN</td>\n",
       "    </tr>\n",
       "    <tr>\n",
       "      <th>4</th>\n",
       "      <td>2013-01-15</td>\n",
       "      <td>0</td>\n",
       "      <td>25</td>\n",
       "      <td>2555</td>\n",
       "      <td>1099.00</td>\n",
       "      <td>1.0</td>\n",
       "      <td>B882047</td>\n",
       "      <td>Moscow TRC \"Atrium\"</td>\n",
       "      <td>DEEP PURPLE 30 Very Best Of 2CD (Фирм.)</td>\n",
       "      <td>56</td>\n",
       "      <td>Music - CD production firm</td>\n",
       "      <td>NaN</td>\n",
       "    </tr>\n",
       "  </tbody>\n",
       "</table>\n",
       "</div>"
      ],
      "text/plain": [
       "        date  date_block_num  shop_id  item_id  item_price  item_cnt_day  \\\n",
       "0 2013-02-01               0       59    22154      999.00           1.0   \n",
       "1 2013-03-01               0       25     2552      899.00           1.0   \n",
       "2 2013-05-01               0       25     2552      899.00          -1.0   \n",
       "3 2013-06-01               0       25     2554     1709.05           1.0   \n",
       "4 2013-01-15               0       25     2555     1099.00           1.0   \n",
       "\n",
       "  system_id                           shop_name  \\\n",
       "0   G957470  Yaroslavl shopping center \"Altair\"   \n",
       "1   B882047                 Moscow TRC \"Atrium\"   \n",
       "2   B882047                 Moscow TRC \"Atrium\"   \n",
       "3   B882047                 Moscow TRC \"Atrium\"   \n",
       "4   B882047                 Moscow TRC \"Atrium\"   \n",
       "\n",
       "                                  item_name  category  \\\n",
       "0                           Scene 2012 (BD)        37   \n",
       "1  DEEP PURPLE  The House Of Blue Light  LP        58   \n",
       "2  DEEP PURPLE  The House Of Blue Light  LP        58   \n",
       "3  DEEP PURPLE  Who Do You Think We Are  LP        58   \n",
       "4   DEEP PURPLE 30 Very Best Of 2CD (Фирм.)        56   \n",
       "\n",
       "           item_category_name active_flag  \n",
       "0            Movies - Blu-Ray         NaN  \n",
       "1               Music - Vinyl         NaN  \n",
       "2               Music - Vinyl         NaN  \n",
       "3               Music - Vinyl         NaN  \n",
       "4  Music - CD production firm         NaN  "
      ]
     },
     "execution_count": 9,
     "metadata": {},
     "output_type": "execute_result"
    }
   ],
   "source": [
    "#preview merged dataset\n",
    "sales_merged.head()"
   ]
  },
  {
   "cell_type": "code",
   "execution_count": 10,
   "metadata": {},
   "outputs": [
    {
     "data": {
      "text/html": [
       "<div>\n",
       "<style scoped>\n",
       "    .dataframe tbody tr th:only-of-type {\n",
       "        vertical-align: middle;\n",
       "    }\n",
       "\n",
       "    .dataframe tbody tr th {\n",
       "        vertical-align: top;\n",
       "    }\n",
       "\n",
       "    .dataframe thead th {\n",
       "        text-align: right;\n",
       "    }\n",
       "</style>\n",
       "<table border=\"1\" class=\"dataframe\">\n",
       "  <thead>\n",
       "    <tr style=\"text-align: right;\">\n",
       "      <th></th>\n",
       "      <th>date_block_num</th>\n",
       "      <th>shop_id</th>\n",
       "      <th>item_id</th>\n",
       "      <th>item_price</th>\n",
       "      <th>item_cnt_day</th>\n",
       "      <th>category</th>\n",
       "    </tr>\n",
       "  </thead>\n",
       "  <tbody>\n",
       "    <tr>\n",
       "      <th>count</th>\n",
       "      <td>3.274029e+06</td>\n",
       "      <td>3.274029e+06</td>\n",
       "      <td>3.274029e+06</td>\n",
       "      <td>3.274029e+06</td>\n",
       "      <td>3.273974e+06</td>\n",
       "      <td>3.274029e+06</td>\n",
       "    </tr>\n",
       "    <tr>\n",
       "      <th>mean</th>\n",
       "      <td>1.458667e+01</td>\n",
       "      <td>3.124899e+01</td>\n",
       "      <td>1.025552e+04</td>\n",
       "      <td>3.388227e+03</td>\n",
       "      <td>1.260911e+00</td>\n",
       "      <td>4.014137e+01</td>\n",
       "    </tr>\n",
       "    <tr>\n",
       "      <th>std</th>\n",
       "      <td>9.456448e+00</td>\n",
       "      <td>1.690565e+01</td>\n",
       "      <td>6.283035e+03</td>\n",
       "      <td>2.636593e+04</td>\n",
       "      <td>3.558028e+00</td>\n",
       "      <td>1.755315e+01</td>\n",
       "    </tr>\n",
       "    <tr>\n",
       "      <th>min</th>\n",
       "      <td>0.000000e+00</td>\n",
       "      <td>0.000000e+00</td>\n",
       "      <td>0.000000e+00</td>\n",
       "      <td>-1.000000e+00</td>\n",
       "      <td>-2.200000e+01</td>\n",
       "      <td>0.000000e+00</td>\n",
       "    </tr>\n",
       "    <tr>\n",
       "      <th>25%</th>\n",
       "      <td>7.000000e+00</td>\n",
       "      <td>1.800000e+01</td>\n",
       "      <td>4.669000e+03</td>\n",
       "      <td>2.490000e+02</td>\n",
       "      <td>1.000000e+00</td>\n",
       "      <td>2.800000e+01</td>\n",
       "    </tr>\n",
       "    <tr>\n",
       "      <th>50%</th>\n",
       "      <td>1.400000e+01</td>\n",
       "      <td>3.000000e+01</td>\n",
       "      <td>9.445000e+03</td>\n",
       "      <td>4.190000e+02</td>\n",
       "      <td>1.000000e+00</td>\n",
       "      <td>4.000000e+01</td>\n",
       "    </tr>\n",
       "    <tr>\n",
       "      <th>75%</th>\n",
       "      <td>2.300000e+01</td>\n",
       "      <td>4.600000e+01</td>\n",
       "      <td>1.577000e+04</td>\n",
       "      <td>1.049000e+03</td>\n",
       "      <td>1.000000e+00</td>\n",
       "      <td>5.500000e+01</td>\n",
       "    </tr>\n",
       "    <tr>\n",
       "      <th>max</th>\n",
       "      <td>3.300000e+01</td>\n",
       "      <td>5.900000e+01</td>\n",
       "      <td>2.216900e+04</td>\n",
       "      <td>4.200000e+06</td>\n",
       "      <td>2.169000e+03</td>\n",
       "      <td>8.300000e+01</td>\n",
       "    </tr>\n",
       "  </tbody>\n",
       "</table>\n",
       "</div>"
      ],
      "text/plain": [
       "       date_block_num       shop_id       item_id    item_price  item_cnt_day  \\\n",
       "count    3.274029e+06  3.274029e+06  3.274029e+06  3.274029e+06  3.273974e+06   \n",
       "mean     1.458667e+01  3.124899e+01  1.025552e+04  3.388227e+03  1.260911e+00   \n",
       "std      9.456448e+00  1.690565e+01  6.283035e+03  2.636593e+04  3.558028e+00   \n",
       "min      0.000000e+00  0.000000e+00  0.000000e+00 -1.000000e+00 -2.200000e+01   \n",
       "25%      7.000000e+00  1.800000e+01  4.669000e+03  2.490000e+02  1.000000e+00   \n",
       "50%      1.400000e+01  3.000000e+01  9.445000e+03  4.190000e+02  1.000000e+00   \n",
       "75%      2.300000e+01  4.600000e+01  1.577000e+04  1.049000e+03  1.000000e+00   \n",
       "max      3.300000e+01  5.900000e+01  2.216900e+04  4.200000e+06  2.169000e+03   \n",
       "\n",
       "           category  \n",
       "count  3.274029e+06  \n",
       "mean   4.014137e+01  \n",
       "std    1.755315e+01  \n",
       "min    0.000000e+00  \n",
       "25%    2.800000e+01  \n",
       "50%    4.000000e+01  \n",
       "75%    5.500000e+01  \n",
       "max    8.300000e+01  "
      ]
     },
     "execution_count": 10,
     "metadata": {},
     "output_type": "execute_result"
    }
   ],
   "source": [
    "#summary statistics for each numeric column\n",
    "sales_merged.describe()"
   ]
  },
  {
   "cell_type": "code",
   "execution_count": 11,
   "metadata": {},
   "outputs": [],
   "source": [
    "#remove records with negative price or negative sales\n",
    "sales_merged = sales_merged[(sales_merged['item_price']>0) & (sales_merged['item_cnt_day']>0)]"
   ]
  },
  {
   "cell_type": "code",
   "execution_count": 12,
   "metadata": {},
   "outputs": [
    {
     "data": {
      "text/plain": [
       "3265560"
      ]
     },
     "execution_count": 12,
     "metadata": {},
     "output_type": "execute_result"
    }
   ],
   "source": [
    "#size of sales dataset\n",
    "len(sales_merged)"
   ]
  },
  {
   "cell_type": "code",
   "execution_count": 13,
   "metadata": {},
   "outputs": [
    {
     "data": {
      "text/plain": [
       "date                        0\n",
       "date_block_num              0\n",
       "shop_id                     0\n",
       "item_id                     0\n",
       "item_price                  0\n",
       "item_cnt_day                0\n",
       "system_id                   0\n",
       "shop_name                   0\n",
       "item_name                   0\n",
       "category                    0\n",
       "item_category_name          0\n",
       "active_flag           3141982\n",
       "dtype: int64"
      ]
     },
     "execution_count": 13,
     "metadata": {},
     "output_type": "execute_result"
    }
   ],
   "source": [
    "#find number of null values for each column\n",
    "sales_merged.isna().sum()"
   ]
  },
  {
   "cell_type": "code",
   "execution_count": 14,
   "metadata": {},
   "outputs": [],
   "source": [
    "#most values in active_flag are missing, this column is dropped\n",
    "sales_merged = sales_merged.drop(['active_flag'], axis=1)"
   ]
  },
  {
   "cell_type": "code",
   "execution_count": 15,
   "metadata": {},
   "outputs": [],
   "source": [
    "#extract year, month, and day from the date column\n",
    "sales_merged['year'] = sales_merged.date.dt.year\n",
    "sales_merged['month'] = sales_merged.date.dt.month\n",
    "sales_merged['day'] = sales_merged.date.dt.day"
   ]
  },
  {
   "cell_type": "code",
   "execution_count": 184,
   "metadata": {},
   "outputs": [],
   "source": [
    "#aggregate on monthly level\n",
    "groups = sales_merged.groupby(['shop_id', 'item_id', 'date_block_num'])\n",
    "sales_aggregated = groups.agg({'item_cnt_day':'sum', 'item_price':'mean'}).reset_index()\n",
    "sales_aggregated = sales_aggregated.rename(columns = {'item_cnt_day' : 'item_cnt_month'})"
   ]
  },
  {
   "cell_type": "code",
   "execution_count": 185,
   "metadata": {},
   "outputs": [
    {
     "data": {
      "text/html": [
       "<div>\n",
       "<style scoped>\n",
       "    .dataframe tbody tr th:only-of-type {\n",
       "        vertical-align: middle;\n",
       "    }\n",
       "\n",
       "    .dataframe tbody tr th {\n",
       "        vertical-align: top;\n",
       "    }\n",
       "\n",
       "    .dataframe thead th {\n",
       "        text-align: right;\n",
       "    }\n",
       "</style>\n",
       "<table border=\"1\" class=\"dataframe\">\n",
       "  <thead>\n",
       "    <tr style=\"text-align: right;\">\n",
       "      <th></th>\n",
       "      <th>shop_id</th>\n",
       "      <th>item_id</th>\n",
       "      <th>date_block_num</th>\n",
       "      <th>item_cnt_month</th>\n",
       "      <th>item_price</th>\n",
       "    </tr>\n",
       "  </thead>\n",
       "  <tbody>\n",
       "    <tr>\n",
       "      <th>0</th>\n",
       "      <td>0</td>\n",
       "      <td>30</td>\n",
       "      <td>1</td>\n",
       "      <td>62.0</td>\n",
       "      <td>265.0</td>\n",
       "    </tr>\n",
       "    <tr>\n",
       "      <th>1</th>\n",
       "      <td>0</td>\n",
       "      <td>31</td>\n",
       "      <td>1</td>\n",
       "      <td>22.0</td>\n",
       "      <td>434.0</td>\n",
       "    </tr>\n",
       "    <tr>\n",
       "      <th>2</th>\n",
       "      <td>0</td>\n",
       "      <td>32</td>\n",
       "      <td>0</td>\n",
       "      <td>12.0</td>\n",
       "      <td>221.0</td>\n",
       "    </tr>\n",
       "    <tr>\n",
       "      <th>3</th>\n",
       "      <td>0</td>\n",
       "      <td>32</td>\n",
       "      <td>1</td>\n",
       "      <td>20.0</td>\n",
       "      <td>221.0</td>\n",
       "    </tr>\n",
       "    <tr>\n",
       "      <th>4</th>\n",
       "      <td>0</td>\n",
       "      <td>33</td>\n",
       "      <td>0</td>\n",
       "      <td>6.0</td>\n",
       "      <td>347.0</td>\n",
       "    </tr>\n",
       "  </tbody>\n",
       "</table>\n",
       "</div>"
      ],
      "text/plain": [
       "   shop_id  item_id  date_block_num  item_cnt_month  item_price\n",
       "0        0       30               1            62.0       265.0\n",
       "1        0       31               1            22.0       434.0\n",
       "2        0       32               0            12.0       221.0\n",
       "3        0       32               1            20.0       221.0\n",
       "4        0       33               0             6.0       347.0"
      ]
     },
     "execution_count": 185,
     "metadata": {},
     "output_type": "execute_result"
    }
   ],
   "source": [
    "sales_aggregated.head()"
   ]
  },
  {
   "cell_type": "code",
   "execution_count": 186,
   "metadata": {},
   "outputs": [],
   "source": [
    "#add item categories\n",
    "sales_aggregated = sales_aggregated.merge(items, how='left', left_on='item_id', right_on='id').drop(['id','item_name'], axis=1)"
   ]
  },
  {
   "cell_type": "code",
   "execution_count": 187,
   "metadata": {},
   "outputs": [
    {
     "data": {
      "text/html": [
       "<div>\n",
       "<style scoped>\n",
       "    .dataframe tbody tr th:only-of-type {\n",
       "        vertical-align: middle;\n",
       "    }\n",
       "\n",
       "    .dataframe tbody tr th {\n",
       "        vertical-align: top;\n",
       "    }\n",
       "\n",
       "    .dataframe thead th {\n",
       "        text-align: right;\n",
       "    }\n",
       "</style>\n",
       "<table border=\"1\" class=\"dataframe\">\n",
       "  <thead>\n",
       "    <tr style=\"text-align: right;\">\n",
       "      <th></th>\n",
       "      <th>shop_id</th>\n",
       "      <th>item_id</th>\n",
       "      <th>date_block_num</th>\n",
       "      <th>item_cnt_month</th>\n",
       "      <th>item_price</th>\n",
       "      <th>category</th>\n",
       "    </tr>\n",
       "  </thead>\n",
       "  <tbody>\n",
       "    <tr>\n",
       "      <th>0</th>\n",
       "      <td>0</td>\n",
       "      <td>30</td>\n",
       "      <td>1</td>\n",
       "      <td>62.0</td>\n",
       "      <td>265.0</td>\n",
       "      <td>40</td>\n",
       "    </tr>\n",
       "    <tr>\n",
       "      <th>1</th>\n",
       "      <td>0</td>\n",
       "      <td>31</td>\n",
       "      <td>1</td>\n",
       "      <td>22.0</td>\n",
       "      <td>434.0</td>\n",
       "      <td>37</td>\n",
       "    </tr>\n",
       "    <tr>\n",
       "      <th>2</th>\n",
       "      <td>0</td>\n",
       "      <td>32</td>\n",
       "      <td>0</td>\n",
       "      <td>12.0</td>\n",
       "      <td>221.0</td>\n",
       "      <td>40</td>\n",
       "    </tr>\n",
       "    <tr>\n",
       "      <th>3</th>\n",
       "      <td>0</td>\n",
       "      <td>32</td>\n",
       "      <td>1</td>\n",
       "      <td>20.0</td>\n",
       "      <td>221.0</td>\n",
       "      <td>40</td>\n",
       "    </tr>\n",
       "    <tr>\n",
       "      <th>4</th>\n",
       "      <td>0</td>\n",
       "      <td>33</td>\n",
       "      <td>0</td>\n",
       "      <td>6.0</td>\n",
       "      <td>347.0</td>\n",
       "      <td>37</td>\n",
       "    </tr>\n",
       "  </tbody>\n",
       "</table>\n",
       "</div>"
      ],
      "text/plain": [
       "   shop_id  item_id  date_block_num  item_cnt_month  item_price  category\n",
       "0        0       30               1            62.0       265.0        40\n",
       "1        0       31               1            22.0       434.0        37\n",
       "2        0       32               0            12.0       221.0        40\n",
       "3        0       32               1            20.0       221.0        40\n",
       "4        0       33               0             6.0       347.0        37"
      ]
     },
     "execution_count": 187,
     "metadata": {},
     "output_type": "execute_result"
    }
   ],
   "source": [
    "sales_aggregated.head()"
   ]
  },
  {
   "cell_type": "code",
   "execution_count": 188,
   "metadata": {},
   "outputs": [],
   "source": [
    "#add lag feature for item_cnt_month\n",
    "\n",
    "#first sort dataframe based on date_block_num\n",
    "sales_aggregated = sales_aggregated.sort_values('date_block_num')\n",
    "\n",
    "#add lag feature\n",
    "sales_aggregated['item_cnt_prev_month'] = sales_aggregated.groupby(['shop_id', 'item_id'], sort = False)['item_cnt_month'].shift(1).fillna(0)"
   ]
  },
  {
   "cell_type": "code",
   "execution_count": 189,
   "metadata": {},
   "outputs": [
    {
     "data": {
      "text/plain": [
       "33"
      ]
     },
     "execution_count": 189,
     "metadata": {},
     "output_type": "execute_result"
    }
   ],
   "source": [
    "#find maximum date_block_number\n",
    "\n",
    "sales_aggregated['date_block_num'].max()"
   ]
  },
  {
   "cell_type": "code",
   "execution_count": 190,
   "metadata": {},
   "outputs": [],
   "source": [
    "#train test split\n",
    "#test data: partition of data where date_block_num = 33\n",
    "\n",
    "train = sales_aggregated[sales_aggregated['date_block_num'] < 33]\n",
    "test = sales_aggregated[sales_aggregated['date_block_num'] == 33]"
   ]
  },
  {
   "cell_type": "code",
   "execution_count": 191,
   "metadata": {},
   "outputs": [],
   "source": [
    "#define X_train, X_test, y_train, y_test\n",
    "X_train = train.drop('item_cnt_month', axis=1)\n",
    "X_test = test.drop('item_cnt_month', axis=1)\n",
    "y_train = train['item_cnt_month']\n",
    "y_test = test['item_cnt_month']"
   ]
  },
  {
   "cell_type": "code",
   "execution_count": 192,
   "metadata": {},
   "outputs": [
    {
     "name": "stdout",
     "output_type": "stream",
     "text": [
      "[0]\tvalidation_0-rmse:49.13225\n",
      "Will train until validation_0-rmse hasn't improved in 5 rounds.\n",
      "[1]\tvalidation_0-rmse:45.99173\n",
      "[2]\tvalidation_0-rmse:45.52836\n",
      "[3]\tvalidation_0-rmse:45.21841\n",
      "[4]\tvalidation_0-rmse:43.66306\n",
      "[5]\tvalidation_0-rmse:42.35295\n",
      "[6]\tvalidation_0-rmse:42.46054\n",
      "[7]\tvalidation_0-rmse:42.08406\n",
      "[8]\tvalidation_0-rmse:42.09575\n",
      "[9]\tvalidation_0-rmse:41.94340\n",
      "[10]\tvalidation_0-rmse:42.06158\n",
      "[11]\tvalidation_0-rmse:42.12147\n",
      "[12]\tvalidation_0-rmse:42.20445\n",
      "[13]\tvalidation_0-rmse:42.25562\n",
      "[14]\tvalidation_0-rmse:42.08365\n",
      "Stopping. Best iteration:\n",
      "[9]\tvalidation_0-rmse:41.94340\n",
      "\n"
     ]
    },
    {
     "data": {
      "text/plain": [
       "XGBRegressor(base_score=0.5, booster='gbtree', colsample_bylevel=1,\n",
       "       colsample_bynode=1, colsample_bytree=1, gamma=0, gpu_id=-1,\n",
       "       importance_type='gain', interaction_constraints='',\n",
       "       learning_rate=0.300000012, max_delta_step=0, max_depth=6,\n",
       "       min_child_weight=1, missing=nan, monotone_constraints='()',\n",
       "       n_estimators=100, n_jobs=0, num_parallel_tree=1,\n",
       "       objective='reg:squarederror', random_state=42, reg_alpha=0,\n",
       "       reg_lambda=1, scale_pos_weight=1, seed=42, subsample=1,\n",
       "       tree_method='exact', validate_parameters=1, verbosity=None)"
      ]
     },
     "execution_count": 192,
     "metadata": {},
     "output_type": "execute_result"
    }
   ],
   "source": [
    "#training time~10 minutes\n",
    "from xgboost import XGBRegressor\n",
    "\n",
    "model = XGBRegressor(\n",
    "    seed=42)\n",
    "\n",
    "model.fit(\n",
    "    X_train, \n",
    "    y_train, \n",
    "    eval_metric=\"rmse\",\n",
    "    eval_set=[(X_test, y_test)],\n",
    "    early_stopping_rounds=5,\n",
    "    verbose=True)"
   ]
  },
  {
   "cell_type": "code",
   "execution_count": 195,
   "metadata": {},
   "outputs": [
    {
     "name": "stdout",
     "output_type": "stream",
     "text": [
      "6.5804495702966115\n"
     ]
    }
   ],
   "source": [
    "#train rmse\n",
    "from sklearn.metrics import mean_squared_error\n",
    "prediction_train = model.predict(X_train)\n",
    "rmse_train = np.sqrt(mean_squared_error(y_train,prediction_train))\n",
    "print(rmse_train)"
   ]
  },
  {
   "cell_type": "code",
   "execution_count": 196,
   "metadata": {},
   "outputs": [
    {
     "name": "stdout",
     "output_type": "stream",
     "text": [
      "41.9435030929019\n"
     ]
    }
   ],
   "source": [
    "#test rmse\n",
    "prediction_test = model.predict(X_test)\n",
    "rmse_test = np.sqrt(mean_squared_error(y_test,prediction_test))\n",
    "print(rmse_test)"
   ]
  },
  {
   "cell_type": "code",
   "execution_count": 197,
   "metadata": {},
   "outputs": [
    {
     "name": "stdout",
     "output_type": "stream",
     "text": [
      "48.534438961532175\n"
     ]
    }
   ],
   "source": [
    "#benchmark rmse: average sales from training set\n",
    "#establish benchmark performance\n",
    "average_sales = train.groupby(['shop_id', 'item_id'])['item_cnt_month'].mean().reset_index().rename(columns={'item_cnt_month': 'item_cnt_month_mean'})\n",
    "test_with_average = test.merge(average_sales, how='left', on=['shop_id','item_id']).fillna(0)\n",
    "prediction_average = test_with_average['item_cnt_month_mean']\n",
    "rmse_benchmark = np.sqrt(mean_squared_error(y_test,prediction_average))\n",
    "print(rmse_benchmark)"
   ]
  },
  {
   "cell_type": "code",
   "execution_count": 198,
   "metadata": {},
   "outputs": [
    {
     "name": "stdout",
     "output_type": "stream",
     "text": [
      "['Delivery to the delivery point (Boxberry)']\n",
      "['Shop Online Emergencies']\n"
     ]
    }
   ],
   "source": [
    "#item with maximum predicted sales in the next month\n",
    "max_item_index = np.argmax(prediction_test)\n",
    "max_item_shop = X_test.iloc[max_item_index]['shop_id']\n",
    "max_item = X_test.iloc[max_item_index]['item_id']\n",
    "print(items[items['id']==max_item]['item_name'].unique())\n",
    "print(shops[shops['id']==max_item_shop]['shop_name'].unique())"
   ]
  },
  {
   "cell_type": "code",
   "execution_count": 199,
   "metadata": {},
   "outputs": [
    {
     "name": "stdout",
     "output_type": "stream",
     "text": [
      "['Shop Online Emergencies']\n",
      "9863.356\n"
     ]
    }
   ],
   "source": [
    "#shop with maximum total predicted sales in the next month\n",
    "results = X_test.copy()\n",
    "results['item_cnt_month_predicted'] = prediction_test\n",
    "\n",
    "#aggregate on shop level\n",
    "shops_groups = results.groupby(['shop_id'])\n",
    "results_aggregated = shops_groups.agg({'item_cnt_month_predicted':'sum'}).reset_index()\n",
    "results_aggregated = results_aggregated.rename(columns = {'item_cnt_month_predicted' : 'item_cnt_predicted_sum'})\n",
    "max_shop = results_aggregated.iloc[results_aggregated['item_cnt_predicted_sum'].idxmax()]['shop_id']\n",
    "print(shops[shops['id']==max_shop]['shop_name'].unique())\n",
    "print(results_aggregated['item_cnt_predicted_sum'].max())"
   ]
  },
  {
   "cell_type": "code",
   "execution_count": 200,
   "metadata": {},
   "outputs": [
    {
     "name": "stdout",
     "output_type": "stream",
     "text": [
      "['Corporate package white shirt 1C Interest (34 * 42) 45 m']\n",
      "5407.1953\n"
     ]
    }
   ],
   "source": [
    "#item with maximum total predicted sales in the next month\n",
    "\n",
    "#aggregate on item level\n",
    "items_groups = results.groupby(['item_id'])\n",
    "results_aggregated = items_groups.agg({'item_cnt_month_predicted':'sum'}).reset_index()\n",
    "results_aggregated = results_aggregated.rename(columns = {'item_cnt_month_predicted' : 'item_cnt_predicted_sum'})\n",
    "max_item_agg = results_aggregated.iloc[results_aggregated['item_cnt_predicted_sum'].idxmax()]['item_id']\n",
    "print(items[items['id']==max_item_agg]['item_name'].unique())\n",
    "print(results_aggregated['item_cnt_predicted_sum'].max())"
   ]
  },
  {
   "cell_type": "code",
   "execution_count": 201,
   "metadata": {},
   "outputs": [],
   "source": [
    "#predicted change in sales\n",
    "results['item_cnt_month_predicted_change'] = (results['item_cnt_month_predicted'] - results['item_cnt_prev_month'])"
   ]
  },
  {
   "cell_type": "code",
   "execution_count": 202,
   "metadata": {},
   "outputs": [
    {
     "name": "stdout",
     "output_type": "stream",
     "text": [
      "['Shop Online Emergencies']\n",
      "1955.3560888767242\n"
     ]
    }
   ],
   "source": [
    "#shop with maximum predicted change in sales in the next month\n",
    "\n",
    "#aggregate on shop level\n",
    "shops_groups = results.groupby(['shop_id'])\n",
    "results_aggregated = shops_groups.agg({'item_cnt_month_predicted_change':'sum'}).reset_index()\n",
    "results_aggregated = results_aggregated.rename(columns = {'item_cnt_month_predicted_change' : 'item_cnt_month_predicted_change_sum'})\n",
    "max_shop = results_aggregated.iloc[results_aggregated['item_cnt_month_predicted_change_sum'].idxmax()]['shop_id']\n",
    "print(shops[shops['id']==max_shop]['shop_name'].unique())\n",
    "print(results_aggregated['item_cnt_month_predicted_change_sum'].max())"
   ]
  },
  {
   "cell_type": "code",
   "execution_count": 203,
   "metadata": {},
   "outputs": [
    {
     "name": "stdout",
     "output_type": "stream",
     "text": [
      "['St. Petersburg TK \"Nevsky Center\"']\n",
      "20.569810032844543\n"
     ]
    }
   ],
   "source": [
    "#shop with minimum predicted change in sales in the next month\n",
    "\n",
    "#aggregate on shop level\n",
    "shops_groups = results.groupby(['shop_id'])\n",
    "results_aggregated = shops_groups.agg({'item_cnt_month_predicted_change':'sum'}).reset_index()\n",
    "results_aggregated = results_aggregated.rename(columns = {'item_cnt_month_predicted_change' : 'item_cnt_month_predicted_change_sum'})\n",
    "min_shop = results_aggregated.iloc[results_aggregated['item_cnt_month_predicted_change_sum'].idxmin()]['shop_id']\n",
    "print(shops[shops['id']==min_shop]['shop_name'].unique())\n",
    "print(results_aggregated['item_cnt_month_predicted_change_sum'].min())"
   ]
  },
  {
   "cell_type": "code",
   "execution_count": 204,
   "metadata": {},
   "outputs": [
    {
     "name": "stdout",
     "output_type": "stream",
     "text": [
      "['Delivery to the delivery point (Boxberry)']\n",
      "774.7408447265625\n"
     ]
    }
   ],
   "source": [
    "#item with maximum predicted change in sales in the next month\n",
    "\n",
    "#aggregate on item level\n",
    "items_groups = results.groupby(['item_id'])\n",
    "results_aggregated = items_groups.agg({'item_cnt_month_predicted_change':'sum'}).reset_index()\n",
    "results_aggregated = results_aggregated.rename(columns = {'item_cnt_month_predicted_change' : 'item_cnt_month_predicted_change_sum'})\n",
    "max_item = results_aggregated.iloc[results_aggregated['item_cnt_month_predicted_change_sum'].idxmax()]['item_id']\n",
    "print(items[items['id']==max_item]['item_name'].unique())\n",
    "print(results_aggregated['item_cnt_month_predicted_change_sum'].max())"
   ]
  },
  {
   "cell_type": "code",
   "execution_count": 205,
   "metadata": {},
   "outputs": [
    {
     "name": "stdout",
     "output_type": "stream",
     "text": [
      "['FIFA 16 [PS4, Russian version]']\n",
      "-640.5503716468811\n"
     ]
    }
   ],
   "source": [
    "#item with minimum predicted change in sales in the next month\n",
    "\n",
    "#aggregate on item level\n",
    "items_groups = results.groupby(['item_id'])\n",
    "results_aggregated = items_groups.agg({'item_cnt_month_predicted_change':'sum'}).reset_index()\n",
    "results_aggregated = results_aggregated.rename(columns = {'item_cnt_month_predicted_change' : 'item_cnt_month_predicted_change_sum'})\n",
    "min_item = results_aggregated.iloc[results_aggregated['item_cnt_month_predicted_change_sum'].idxmin()]['item_id']\n",
    "print(items[items['id']==min_item]['item_name'].unique())\n",
    "print(results_aggregated['item_cnt_month_predicted_change_sum'].min())"
   ]
  },
  {
   "cell_type": "code",
   "execution_count": null,
   "metadata": {},
   "outputs": [],
   "source": []
  }
 ],
 "metadata": {
  "kernelspec": {
   "display_name": "Python 3",
   "language": "python",
   "name": "python3"
  },
  "language_info": {
   "codemirror_mode": {
    "name": "ipython",
    "version": 3
   },
   "file_extension": ".py",
   "mimetype": "text/x-python",
   "name": "python",
   "nbconvert_exporter": "python",
   "pygments_lexer": "ipython3",
   "version": "3.6.5"
  }
 },
 "nbformat": 4,
 "nbformat_minor": 2
}
